{
 "cells": [
  {
   "cell_type": "code",
   "execution_count": 1,
   "metadata": {},
   "outputs": [
    {
     "data": {
      "text/plain": [
       "'d:\\\\Data_analytics_new\\\\FSDS\\\\learning\\\\DS_Project\\\\DS-Project\\\\research'"
      ]
     },
     "execution_count": 1,
     "metadata": {},
     "output_type": "execute_result"
    }
   ],
   "source": [
    "import os\n",
    "%pwd"
   ]
  },
  {
   "cell_type": "code",
   "execution_count": 2,
   "metadata": {},
   "outputs": [
    {
     "data": {
      "text/plain": [
       "'d:\\\\Data_analytics_new\\\\FSDS\\\\learning\\\\DS_Project\\\\DS-Project'"
      ]
     },
     "execution_count": 2,
     "metadata": {},
     "output_type": "execute_result"
    }
   ],
   "source": [
    "os.chdir(\"../\")\n",
    "%pwd"
   ]
  },
  {
   "cell_type": "code",
   "execution_count": 3,
   "metadata": {},
   "outputs": [],
   "source": [
    "from dataclasses import dataclass\n",
    "from pathlib import Path\n",
    "\n",
    "@dataclass\n",
    "class DataIngestionConfig:\n",
    "    root_dir:Path\n",
    "    source_URL:Path\n",
    "    local_data_file:Path                                   ## Name should always same\n",
    "    unzip_dir:Path\n",
    "    ## Data class we don't need to use self variable"
   ]
  },
  {
   "cell_type": "code",
   "execution_count": 4,
   "metadata": {},
   "outputs": [],
   "source": [
    "from src.ds_project.constants import *\n",
    "from src.ds_project.utils.common import read_yaml, create_directories"
   ]
  },
  {
   "cell_type": "code",
   "execution_count": 5,
   "metadata": {},
   "outputs": [],
   "source": [
    "class ConfigurationManager:\n",
    "    def __init__(self, config_filepath=CONFIG_FILE_PATH,\n",
    "                 params_file_path=PARAMS_FILE_PATH,\n",
    "                 schema_file_path=SCHEMA_FILE_PATH):\n",
    "        self.config = read_yaml(config_filepath)\n",
    "        self.params = read_yaml(params_file_path)\n",
    "        self.schema = read_yaml(schema_file_path)\n",
    "\n",
    "        print(self.config.artifacts_root)\n",
    "\n",
    "        create_directories(self.config.artifacts_root)\n",
    "\n",
    "    def get_data_ingestion_path(self)-> DataIngestionConfig:\n",
    "        config=self.config.data_ingestion\n",
    "        create_directories(config.root_dir)\n",
    "\n",
    "        data_ingestion_config=DataIngestionConfig(\n",
    "            root_dir=config.root_dir,\n",
    "            source_URL=config.source_URL,\n",
    "            local_data_file=config.local_data_file,\n",
    "            unzip_dir=config.unzip_dir\n",
    "        )\n",
    "        return data_ingestion_config\n",
    "\n"
   ]
  },
  {
   "cell_type": "code",
   "execution_count": 6,
   "metadata": {},
   "outputs": [],
   "source": [
    "import os\n",
    "import urllib.request as request\n",
    "from src.ds_project import logger\n",
    "import zipfile\n",
    "import requests"
   ]
  },
  {
   "cell_type": "code",
   "execution_count": 7,
   "metadata": {},
   "outputs": [],
   "source": [
    "## Components\n",
    "\n",
    "class DataIngestion:\n",
    "    def __init__(self, config:DataIngestionConfig):\n",
    "        self.config=config\n",
    "\n",
    "    ## Downloading the zip file\n",
    "    def download_file(self):\n",
    "        if not os.path.exists(self.config.local_data_file):  # Check if the file already exists\n",
    "            try:\n",
    "                # Send an HTTP GET request to download the file\n",
    "                response = requests.get(self.config.source_URL)\n",
    "                \n",
    "                # Check if the request was successful\n",
    "                if response.status_code == 200:\n",
    "                    # Write the content to the local file\n",
    "                    with open(self.config.local_data_file, 'wb') as file:\n",
    "                        file.write(response.content)\n",
    "                    logger.info(f\"{self.config.local_data_file} downloaded successfully.\")\n",
    "                else:\n",
    "                    logger.error(f\"Failed to download the file. Status code: {response.status_code}\")\n",
    "            except Exception as e:\n",
    "                logger.error(f\"An error occurred while downloading the file: {e}\")\n",
    "        else:\n",
    "            logger.info(f\"File {self.config.local_data_file} already exists. Skipping download.\")\n",
    "    ## extract the zip file\n",
    "    def extract_zip(self):\n",
    "        unzip_path = self.config.unzip_dir\n",
    "        os.makedirs(unzip_path, exist_ok=True)\n",
    "        with zipfile.ZipFile(self.config.local_data_file, 'r') as zip_ref:\n",
    "            zip_ref.extractall(unzip_path)\n",
    "\n",
    "            "
   ]
  },
  {
   "cell_type": "code",
   "execution_count": 8,
   "metadata": {},
   "outputs": [
    {
     "data": {
      "text/plain": [
       "'d:\\\\Data_analytics_new\\\\FSDS\\\\learning\\\\DS_Project\\\\DS-Project'"
      ]
     },
     "execution_count": 8,
     "metadata": {},
     "output_type": "execute_result"
    }
   ],
   "source": [
    "%pwd"
   ]
  },
  {
   "cell_type": "code",
   "execution_count": 9,
   "metadata": {},
   "outputs": [
    {
     "name": "stdout",
     "output_type": "stream",
     "text": [
      "<_io.TextIOWrapper name='config\\\\config.yaml' mode='r' encoding='utf-8'>\n",
      "{'artifacts_root': ['artifacts'], 'data_ingestion': {'root_dir': ['artifacts/data_ingestion'], 'source_URL': 'https://raw.githubusercontent.com/dushyantverma22/data_set/main/WineQT.csv', 'local_data_file': 'artifacts/data_ingestion/WineQT.csv', 'unzip_dir': 'artifacts/data_ingestion'}}\n",
      "[2024-10-21 19:00:25,823: INFO: common: yaml file: config\\config.yaml loaded successfully]\n",
      "<_io.TextIOWrapper name='params.yaml' mode='r' encoding='utf-8'>\n",
      "{'key': 'value'}\n",
      "[2024-10-21 19:00:25,824: INFO: common: yaml file: params.yaml loaded successfully]\n",
      "<_io.TextIOWrapper name='schema.yaml' mode='r' encoding='utf-8'>\n",
      "{'key1': 'value1'}\n",
      "[2024-10-21 19:00:25,825: INFO: common: yaml file: schema.yaml loaded successfully]\n",
      "['artifacts']\n",
      "[2024-10-21 19:00:25,825: INFO: common: Directory created: artifacts]\n",
      "[2024-10-21 19:00:25,825: INFO: common: Directory created: artifacts/data_ingestion]\n",
      "[2024-10-21 19:00:26,177: INFO: 3634282551: artifacts/data_ingestion/WineQT.csv downloaded successfully.]\n"
     ]
    }
   ],
   "source": [
    "try:\n",
    "    config=ConfigurationManager()\n",
    "    data_ingestion_config = config.get_data_ingestion_path()\n",
    "    data_ingestion = DataIngestion(config=data_ingestion_config)\n",
    "    data_ingestion.download_file()\n",
    "    #data_ingestion.extract_zip()\n",
    "except Exception as e:\n",
    "    raise e\n"
   ]
  },
  {
   "cell_type": "code",
   "execution_count": null,
   "metadata": {},
   "outputs": [],
   "source": []
  },
  {
   "cell_type": "code",
   "execution_count": null,
   "metadata": {},
   "outputs": [],
   "source": []
  }
 ],
 "metadata": {
  "kernelspec": {
   "display_name": "Python 3",
   "language": "python",
   "name": "python3"
  },
  "language_info": {
   "codemirror_mode": {
    "name": "ipython",
    "version": 3
   },
   "file_extension": ".py",
   "mimetype": "text/x-python",
   "name": "python",
   "nbconvert_exporter": "python",
   "pygments_lexer": "ipython3",
   "version": "3.12.7"
  }
 },
 "nbformat": 4,
 "nbformat_minor": 2
}
