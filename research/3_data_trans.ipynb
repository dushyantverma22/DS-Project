{
 "cells": [
  {
   "cell_type": "code",
   "execution_count": 1,
   "metadata": {},
   "outputs": [
    {
     "data": {
      "text/plain": [
       "'d:\\\\Data_analytics_new\\\\FSDS\\\\learning\\\\DS_Project\\\\DS-Project\\\\research'"
      ]
     },
     "execution_count": 1,
     "metadata": {},
     "output_type": "execute_result"
    }
   ],
   "source": [
    "import os\n",
    "%pwd"
   ]
  },
  {
   "cell_type": "code",
   "execution_count": 2,
   "metadata": {},
   "outputs": [
    {
     "data": {
      "text/plain": [
       "'d:\\\\Data_analytics_new\\\\FSDS\\\\learning\\\\DS_Project\\\\DS-Project'"
      ]
     },
     "execution_count": 2,
     "metadata": {},
     "output_type": "execute_result"
    }
   ],
   "source": [
    "os.chdir(\"../\")\n",
    "%pwd"
   ]
  },
  {
   "cell_type": "code",
   "execution_count": 3,
   "metadata": {},
   "outputs": [],
   "source": [
    "import pandas as pd\n",
    "\n",
    "df = pd.read_csv(\"artifacts/data_ingestion/WineQT.csv\")"
   ]
  },
  {
   "cell_type": "code",
   "execution_count": 4,
   "metadata": {},
   "outputs": [],
   "source": [
    "from dataclasses import dataclass\n",
    "from pathlib import Path\n",
    "\n",
    "@dataclass\n",
    "class DataTransformationConfig:\n",
    "    root_dir:Path\n",
    "    data_path:Path"
   ]
  },
  {
   "cell_type": "code",
   "execution_count": 5,
   "metadata": {},
   "outputs": [],
   "source": [
    "from src.ds_project.constants import *\n",
    "from src.ds_project.utils.common import read_yaml, create_directories"
   ]
  },
  {
   "cell_type": "code",
   "execution_count": 6,
   "metadata": {},
   "outputs": [],
   "source": [
    "class ConfigurationManager:\n",
    "    def __init__(self, config_filepath=CONFIG_FILE_PATH,\n",
    "                 params_file_path=PARAMS_FILE_PATH,\n",
    "                 schema_file_path=SCHEMA_FILE_PATH):\n",
    "        self.config = read_yaml(config_filepath)\n",
    "        self.params = read_yaml(params_file_path)\n",
    "        self.schema = read_yaml(schema_file_path)\n",
    "\n",
    "        #print(self.config.artifacts_root)\n",
    "\n",
    "        create_directories(self.config.artifacts_root)\n",
    "\n",
    "    def get_data_transformation_config(self)-> DataTransformationConfig:\n",
    "        config=self.config.data_transformation\n",
    "        create_directories(config.root_dir)\n",
    "\n",
    "        data_transformation_config=DataTransformationConfig(\n",
    "            root_dir=config.root_dir,\n",
    "            data_path=config.data_path,\n",
    "\n",
    "        )\n",
    "        return data_transformation_config"
   ]
  },
  {
   "cell_type": "code",
   "execution_count": 7,
   "metadata": {},
   "outputs": [],
   "source": [
    "import os\n",
    "from src.ds_project import logger\n",
    "from sklearn.model_selection import train_test_split\n"
   ]
  },
  {
   "cell_type": "code",
   "execution_count": 8,
   "metadata": {},
   "outputs": [],
   "source": [
    "class DataTransformation:\n",
    "    def __init__(self, config: DataTransformationConfig):\n",
    "        self.config=config\n",
    "\n",
    "        ### Add any techniques here\n",
    "\n",
    "    def data_tansformation_pro(self):\n",
    "        try:\n",
    "            data = pd.read_csv(self.config.data_path)\n",
    "\n",
    "            train, test = train_test_split(data)\n",
    "            train.to_csv(os.path.join(self.config.root_dir, \"train.csv\"), index=False)\n",
    "            test.to_csv(os.path.join(self.config.root_dir, \"test.csv\"), index=False)\n",
    "            \n",
    "            logger.info(\"splliting data into train test split\")\n",
    "            logger.info(train.shape)\n",
    "            logger.info(test.shape)\n",
    "\n",
    "            print(train.shape)\n",
    "            print(test.shape)\n",
    "        except Exception as e:\n",
    "            raise e"
   ]
  },
  {
   "cell_type": "code",
   "execution_count": 9,
   "metadata": {},
   "outputs": [
    {
     "name": "stdout",
     "output_type": "stream",
     "text": [
      "<_io.TextIOWrapper name='config\\\\config.yaml' mode='r' encoding='utf-8'>\n",
      "{'artifacts_root': ['artifacts'], 'data_ingestion': {'root_dir': ['artifacts/data_ingestion'], 'source_URL': 'https://raw.githubusercontent.com/dushyantverma22/data_set/main/WineQT.csv', 'local_data_file': 'artifacts/data_ingestion/WineQT.csv', 'unzip_dir': 'artifacts/data_ingestion'}, 'data_validation': {'root_dir': ['artifacts/data_validation'], 'unzip_data_dir': 'artifacts/data_ingestion/WineQT.csv', 'STATUS_FILE': 'artifacts/data_validation/status.txt'}, 'data_transformation': {'root_dir': 'artifacts/data_transforamtion', 'data_path': 'artifacts/data_ingestion/WineQT.csv'}}\n",
      "[2024-10-21 22:58:43,287: INFO: common: yaml file: config\\config.yaml loaded successfully]\n",
      "<_io.TextIOWrapper name='params.yaml' mode='r' encoding='utf-8'>\n",
      "{'key': 'value'}\n",
      "[2024-10-21 22:58:43,291: INFO: common: yaml file: params.yaml loaded successfully]\n",
      "<_io.TextIOWrapper name='schema.yaml' mode='r' encoding='utf-8'>\n",
      "{'COLUMNS': {'fixed acidity': 'float', 'volatile acidity': 'float', 'citric acid': 'float', 'residual sugar': 'float', 'chlorides': 'float', 'free sulfur dioxide': 'float', 'total sulfur dioxide': 'float', 'density': 'float', 'pH': 'float', 'sulphates': 'float', 'alcohol': 'float'}, 'TARGET_COLUMN': {'name': 'quality'}}\n",
      "[2024-10-21 22:58:43,293: INFO: common: yaml file: schema.yaml loaded successfully]\n",
      "[2024-10-21 22:58:43,296: INFO: common: Directory created: artifacts]\n",
      "[2024-10-21 22:58:43,297: INFO: common: Directory created: artifacts/data_transforamtion]\n",
      "[2024-10-21 22:58:43,318: INFO: 384476387: splliting data into train test split]\n",
      "[2024-10-21 22:58:43,324: INFO: 384476387: (857, 12)]\n",
      "[2024-10-21 22:58:43,324: INFO: 384476387: (286, 12)]\n",
      "(857, 12)\n",
      "(286, 12)\n"
     ]
    }
   ],
   "source": [
    "try:\n",
    "    config=ConfigurationManager()\n",
    "    data_transformation_config = config.get_data_transformation_config()\n",
    "    data_transformation = DataTransformation(config=data_transformation_config)\n",
    "    data_transformation.data_tansformation_pro()\n",
    "except Exception as e:\n",
    "    raise e\n"
   ]
  },
  {
   "cell_type": "code",
   "execution_count": null,
   "metadata": {},
   "outputs": [],
   "source": []
  }
 ],
 "metadata": {
  "kernelspec": {
   "display_name": "Python 3",
   "language": "python",
   "name": "python3"
  },
  "language_info": {
   "codemirror_mode": {
    "name": "ipython",
    "version": 3
   },
   "file_extension": ".py",
   "mimetype": "text/x-python",
   "name": "python",
   "nbconvert_exporter": "python",
   "pygments_lexer": "ipython3",
   "version": "3.12.7"
  }
 },
 "nbformat": 4,
 "nbformat_minor": 2
}
